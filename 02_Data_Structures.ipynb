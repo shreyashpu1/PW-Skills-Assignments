{
  "nbformat": 4,
  "nbformat_minor": 0,
  "metadata": {
    "colab": {
      "provenance": [],
      "authorship_tag": "ABX9TyPR0vAtVGwUAXefamKDfrAi",
      "include_colab_link": true
    },
    "kernelspec": {
      "name": "python3",
      "display_name": "Python 3"
    },
    "language_info": {
      "name": "python"
    }
  },
  "cells": [
    {
      "cell_type": "markdown",
      "metadata": {
        "id": "view-in-github",
        "colab_type": "text"
      },
      "source": [
        "<a href=\"https://colab.research.google.com/github/shreyashpu1/PW-Skills-Assignments/blob/main/02_Data_Structures.ipynb\" target=\"_parent\"><img src=\"https://colab.research.google.com/assets/colab-badge.svg\" alt=\"Open In Colab\"/></a>"
      ]
    },
    {
      "cell_type": "markdown",
      "source": [
        "# Data Types and Structures Questions"
      ],
      "metadata": {
        "id": "YziZJfYhn2us"
      }
    },
    {
      "cell_type": "markdown",
      "source": [
        "\n",
        "1. What are data structures, and why are they important?\n",
        "- Data structures are ways of organizing and storing data in a computer so that it can be used efficiently. Examples in Python include lists, tuples, sets, and dictionaries.\n",
        "- They are important because they help manage large amounts of data, make searching, inserting, and deleting data faster and allow us to choose the best method for solving different problems.\n",
        "\n",
        "2. Explain the difference between mutable and immutable data types with examples?\n",
        "- Mutable data types are those that can be changed after creation, while immutable data types cannot be changed once they are created.\n",
        "- Mutable Data Types:\n",
        "Their contents (elements) can be modified, added, or removed.\n",
        "  - Examples: list, dictionary, set\n",
        "    \n",
        "    my_list = [1, 2, 3]\n",
        "    \n",
        "    my_list[1] = 20   # Changing element\n",
        "    \n",
        "    print(my_list)    # [1, 20, 3]\n",
        "\n",
        "- Immutable Data Types:\n",
        "Once created, their contents cannot be changed.\n",
        "  - Examples: int, float, string, tuple\n",
        "    \n",
        "    my_tuple = (1, 2, 3)\n",
        "\n",
        "    my_tuple[1] = 20   #This will give an error\n",
        "    \n",
        "3. What are the main differences between lists and tuples in Python?\n",
        "- Lists are mutable, meaning their elements can be changed, added, or removed.\n",
        "- Tuples are immutable, so once created, their elements cannot be modified.\n",
        "- Lists are defined using square brackets [ ], while tuples use parentheses ( ).\n",
        "- Lists are generally slower than tuples because they allow modifications.\n",
        "- Lists are used when data may change, while tuples are used when data must remain fixed.\n",
        "\n",
        "4. Describe how dictionaries store data?\n",
        "- Dictionaries in Python store data as key–value pairs. Each key is unique and works like an index, while the value is the data associated with that key. Internally, dictionaries use a technique called hashing, which allows very fast searching, insertion, and deletion of data.\n",
        "\n",
        "5. Why might you use a set instead of a list in Python?\n",
        "- We use a set instead of a list in Python when:\n",
        "  - We need to store unique elements.\n",
        "  - Need faster membership testing (checking if an element exists is quicker in a set because it uses hashing).\n",
        "  - To perform set operations like union, intersection, and difference, which are not available with lists.\n",
        "\n",
        "6. What is a string in Python, and how is it different from a list?\n",
        "- A string in Python is a sequence of characters enclosed within single quotes (' '), double quotes (\" \"), or triple quotes (''' ''' or \"\"\" \"\"\"). Strings are used to represent text data, such as words, sentences, or symbols.\n",
        "\n",
        "- The difference between a string and a list is:\n",
        "  - A string stores characters and is immutable, meaning once created, its content cannot be changed.\n",
        "  - A list can store elements of different data types (numbers, strings, etc.) and is mutable, meaning its contents can be modified.\n",
        "  - Strings use quotes for definition, while lists use square brackets [ ].\n",
        "\n",
        "7. How do tuples ensure data integrity in Python?\n",
        "- Tuples in Python ensure data integrity because they are immutable. Once a tuple is created, its elements cannot be changed, added, or removed. This immutability guarantees that the data will remain constant throughout the program, preventing accidental modifications.\n",
        "\n",
        "8. What is a hash table, and how does it relate to dictionaries in Python?\n",
        "- A hash table is a data structure that stores data in the form of key–value pairs. It uses a hashing function to convert each key into a unique index (hash value), which makes searching, inserting, and deleting data very fast.\n",
        "- In Python, dictionaries are implemented using hash tables.\n",
        "- The keys are hashed to find their position in memory.\n",
        "- The values are stored at those positions.\n",
        "- This is why dictionary lookups (my_dict[\"key\"]) are usually very efficient.\n",
        "\n",
        "9. Can lists contain different data types in Python?\n",
        "- Yes, lists in Python can contain different data types in the same list.\n",
        "\n",
        "10. Explain why strings are immutable in Python?\n",
        "- Memory efficiency and security – Since strings are often used as keys in dictionaries or for storing sensitive data, immutability ensures that their values do not change unexpectedly.\n",
        "- Hashing support – Because strings never change, they can be used reliably as keys in hash-based data structures like dictionaries and sets.\n",
        "- Performance optimization – Immutable strings allow Python to reuse the same string object in memory (string interning), saving memory and improving speed.\n",
        "\n",
        "11. What advantages do dictionaries offer over lists for certain tasks?\n",
        "- Dictionaries in Python offer some clear advantages over lists for certain tasks. A list stores data in a sequence where you access elements by their index, while a dictionary stores data as key–value pairs, allowing you to quickly access values using meaningful keys. This makes dictionaries much faster and more efficient for lookups, updates, and searching when compared to lists. They also make the code more readable, since you can use descriptive keys (like \"name\" or \"age\") instead of remembering numeric indexes. Additionally, dictionaries prevent duplicate keys, ensuring unique identifiers for data.\n",
        "\n",
        "12. Describe a scenario where using a tuple would be preferable over a list?\n",
        "- Example scenario - Defining days of the week. These are constant values that never change.\n",
        "- days = (\"Monday\", \"Tuesday\", \"Wednesday\", \"Thursday\", \"Friday\", \"Saturday\", \"Sunday\")\n",
        "\n",
        "13. How do sets handle duplicate values in Python?\n",
        "- Sets automatically remove duplicate values. A set is an unordered collection of unique elements, so if you try to add the same value more than once, Python will store it only once.\n",
        "\n",
        "14. How does the “in” keyword work differently for lists and dictionaries?\n",
        "- For lists, in checks whether a value is present in the list elements.\n",
        "- For dictionaries, in checks only if the key is present, not the values.\n",
        "\n",
        "15. Can you modify the elements of a tuple? Explain why or why not?\n",
        "- No, you cannot modify the elements of a tuple in Python because tuples are immutable. Once a tuple is created, its elements cannot be changed, added, or removed.\n",
        "\n",
        "16. What is a nested dictionary, and give an example of its use case?\n",
        "- A nested dictionary in Python is a dictionary that contains another dictionary as its value. It allows you to store data in multiple levels, making it useful for representing structured or hierarchical information.\n",
        "- Example use case: Storing student records where each student has details like name, age, and marks.\n",
        "  - students = {\n",
        "    \"101\": {\"name\": \"Alice\", \"age\": 20, \"marks\": 85},\n",
        "    \"102\": {\"name\": \"Bob\", \"age\": 21, \"marks\": 90},\n",
        "    \"103\": {\"name\": \"Charlie\", \"age\": 19, \"marks\": 78}\n",
        "}\n",
        "  - Here, each student ID maps to another dictionary containing their details.\n",
        "\n",
        "17. Describe the time complexity of accessing elements in a dictionary.\n",
        "- Accessing elements in a dictionary in Python is generally very fast. Dictionaries use a hash table internally, so the average time complexity for accessing, inserting, or deleting an element is O(1) (constant time).\n",
        "\n",
        "18. In what situations are lists preferred over dictionaries?\n",
        "- Lists are preferred over dictionaries when you need to store data in a simple ordered sequence without worrying about key–value pairs. They are best suited when the position (index) of elements matters, such as processing items in order, iterating through data, or when duplicates are allowed.\n",
        "- Lists also use less memory compared to dictionaries, so they are more efficient for storing small or straightforward collections of items like numbers, names, or records where unique keys are not required.\n",
        "\n",
        "19. Why are dictionaries considered unordered, and how does that affect data retrieval?\n",
        "- Dictionaries are considered unordered because they store data based on a hashing mechanism rather than in a fixed sequence like lists or tuples.\n",
        "- However, this does not affect data retrieval because dictionaries use keys to access values directly. No matter how the data is stored internally, you can always retrieve a value in constant time O(1) by using its key. The only effect of being unordered is that you cannot rely on the dictionary to maintain the sequence in which items were added.\n",
        "\n",
        "20. Explain the difference between a list and a dictionary in terms of data retrieval.\n",
        "- The main difference between a list and a dictionary in terms of data retrieval is how elements are accessed.\n",
        "- In a list, elements are retrieved using their index position, which means you need to know where the item is stored in the sequence.\n",
        "- In a dictionary, elements are retrieved using a key, which directly maps to its value."
      ],
      "metadata": {
        "id": "IuZEn6_aoMzJ"
      }
    },
    {
      "cell_type": "markdown",
      "source": [
        "#Practical Questions"
      ],
      "metadata": {
        "id": "iW62FDI0FueV"
      }
    },
    {
      "cell_type": "code",
      "execution_count": 1,
      "metadata": {
        "colab": {
          "base_uri": "https://localhost:8080/"
        },
        "id": "k7_HmXu0npyD",
        "outputId": "85fd8107-0448-4116-ec73-99fa2bb3107b"
      },
      "outputs": [
        {
          "output_type": "stream",
          "name": "stdout",
          "text": [
            "Hello Shreyash\n"
          ]
        }
      ],
      "source": [
        "#1. Write a code to create a string with your name and print it.\n",
        "name=\"Shreyash\"\n",
        "print(\"Hello \"+name)"
      ]
    },
    {
      "cell_type": "code",
      "source": [
        "#2. Write a code to find the length of the string \"Hello World\".\n",
        "string=\"Hello World\"\n",
        "print(len(string))"
      ],
      "metadata": {
        "colab": {
          "base_uri": "https://localhost:8080/"
        },
        "id": "I9foBU2yGEqt",
        "outputId": "b4e0d8f0-60a9-4718-f416-a43eecf1513f"
      },
      "execution_count": 2,
      "outputs": [
        {
          "output_type": "stream",
          "name": "stdout",
          "text": [
            "11\n"
          ]
        }
      ]
    },
    {
      "cell_type": "code",
      "source": [
        "#3. Write a code to slice the first 3 characters from the string \"Python Programming\".\n",
        "p=\"Python Programming\"\n",
        "p[:3]\n"
      ],
      "metadata": {
        "colab": {
          "base_uri": "https://localhost:8080/",
          "height": 36
        },
        "id": "_7vpKOUoGZUf",
        "outputId": "598227ef-7f50-4368-ec7c-78198cd0138b"
      },
      "execution_count": 3,
      "outputs": [
        {
          "output_type": "execute_result",
          "data": {
            "text/plain": [
              "'Pyt'"
            ],
            "application/vnd.google.colaboratory.intrinsic+json": {
              "type": "string"
            }
          },
          "metadata": {},
          "execution_count": 3
        }
      ]
    },
    {
      "cell_type": "code",
      "source": [
        "#4. Write a code to convert the string \"hello\" to uppercase.\n",
        "s=\"hello\"\n",
        "s.upper()"
      ],
      "metadata": {
        "colab": {
          "base_uri": "https://localhost:8080/",
          "height": 36
        },
        "id": "FvMw-BCVG3f2",
        "outputId": "62012654-dea1-4d31-a308-e9097746a543"
      },
      "execution_count": 5,
      "outputs": [
        {
          "output_type": "execute_result",
          "data": {
            "text/plain": [
              "'HELLO'"
            ],
            "application/vnd.google.colaboratory.intrinsic+json": {
              "type": "string"
            }
          },
          "metadata": {},
          "execution_count": 5
        }
      ]
    },
    {
      "cell_type": "code",
      "source": [
        "#5. Write a code to replace the word \"apple\" with \"orange\" in the string \"I like apple\".\n",
        "s=\"I like apple\"\n",
        "s.replace(\"apple\", \"orange\")"
      ],
      "metadata": {
        "colab": {
          "base_uri": "https://localhost:8080/",
          "height": 36
        },
        "id": "bvxlXTATHDVb",
        "outputId": "e7fa0069-738a-480e-acb8-5d540916b7ba"
      },
      "execution_count": 6,
      "outputs": [
        {
          "output_type": "execute_result",
          "data": {
            "text/plain": [
              "'I like orange'"
            ],
            "application/vnd.google.colaboratory.intrinsic+json": {
              "type": "string"
            }
          },
          "metadata": {},
          "execution_count": 6
        }
      ]
    },
    {
      "cell_type": "code",
      "source": [
        "#6. Write a code to create a list with numbers 1 to 5 and print it.\n",
        "lst=[x for x in range(1,6)]\n",
        "print(lst)"
      ],
      "metadata": {
        "colab": {
          "base_uri": "https://localhost:8080/"
        },
        "id": "l6LXROBoHS9w",
        "outputId": "3ecc68f6-25ce-49b1-d2ab-0c5bbbe823ed"
      },
      "execution_count": 7,
      "outputs": [
        {
          "output_type": "stream",
          "name": "stdout",
          "text": [
            "[1, 2, 3, 4, 5]\n"
          ]
        }
      ]
    },
    {
      "cell_type": "code",
      "source": [
        "#7. Write a code to append the number 10 to the list [1, 2, 3, 4].\n",
        "lst=[1, 2, 3, 4]\n",
        "lst.append(10)\n",
        "print(lst)"
      ],
      "metadata": {
        "colab": {
          "base_uri": "https://localhost:8080/"
        },
        "id": "J9hqMwr3HqGo",
        "outputId": "34745781-d3af-49f5-b9c2-04edb1c32797"
      },
      "execution_count": 9,
      "outputs": [
        {
          "output_type": "stream",
          "name": "stdout",
          "text": [
            "[1, 2, 3, 4, 10]\n"
          ]
        }
      ]
    },
    {
      "cell_type": "code",
      "source": [
        "#8. Write a code to remove the number 3 from the list [1, 2, 3, 4, 5].\n",
        "lst = [1, 2, 3, 4, 5]\n",
        "lst.remove(3)\n",
        "print(lst)"
      ],
      "metadata": {
        "colab": {
          "base_uri": "https://localhost:8080/"
        },
        "id": "QagrOqnBH3aB",
        "outputId": "f550b69e-9272-4479-aa28-bf1343e2487a"
      },
      "execution_count": 11,
      "outputs": [
        {
          "output_type": "stream",
          "name": "stdout",
          "text": [
            "[1, 2, 4, 5]\n"
          ]
        }
      ]
    },
    {
      "cell_type": "code",
      "source": [
        "#9. Write a code to access the second element in the list ['a', 'b', 'c', 'd'].\n",
        "lst= ['a', 'b', 'c', 'd']\n",
        "lst[1]"
      ],
      "metadata": {
        "colab": {
          "base_uri": "https://localhost:8080/",
          "height": 36
        },
        "id": "Ysv1LZTtIMAK",
        "outputId": "fa6a9d9b-0e81-4d22-89be-de0d44ea504a"
      },
      "execution_count": 12,
      "outputs": [
        {
          "output_type": "execute_result",
          "data": {
            "text/plain": [
              "'b'"
            ],
            "application/vnd.google.colaboratory.intrinsic+json": {
              "type": "string"
            }
          },
          "metadata": {},
          "execution_count": 12
        }
      ]
    },
    {
      "cell_type": "code",
      "source": [
        "#10. Write a code to reverse the list [10, 20, 30, 40, 50].\n",
        "lst= [10, 20, 30, 40, 50]\n",
        "lst[::-1]"
      ],
      "metadata": {
        "colab": {
          "base_uri": "https://localhost:8080/"
        },
        "id": "ANz3aCJ8IV6Z",
        "outputId": "dfc5ab39-5757-4aa8-aff9-7d2510c477bd"
      },
      "execution_count": 15,
      "outputs": [
        {
          "output_type": "execute_result",
          "data": {
            "text/plain": [
              "[50, 40, 30, 20, 10]"
            ]
          },
          "metadata": {},
          "execution_count": 15
        }
      ]
    },
    {
      "cell_type": "code",
      "source": [
        "#11. Write a code to create a tuple with the elements 100, 200, 300 and print it.\n",
        "t=(100, 200, 300)\n",
        "print(t)"
      ],
      "metadata": {
        "colab": {
          "base_uri": "https://localhost:8080/"
        },
        "id": "OuGTVq-zIkvw",
        "outputId": "183931ed-d87c-493d-a83b-15a306bd4128"
      },
      "execution_count": 18,
      "outputs": [
        {
          "output_type": "stream",
          "name": "stdout",
          "text": [
            "(100, 200, 300)\n"
          ]
        }
      ]
    },
    {
      "cell_type": "code",
      "source": [
        "#12. Write a code to access the second-to-last element of the tuple ('red', 'green', 'blue', 'yellow').\n",
        "colors = ('red', 'green', 'blue', 'yellow')\n",
        "colors[-2]"
      ],
      "metadata": {
        "colab": {
          "base_uri": "https://localhost:8080/",
          "height": 36
        },
        "id": "3tywe0dAI3vL",
        "outputId": "fc0f67f4-cdae-47b7-d8a6-ab924891ca64"
      },
      "execution_count": 19,
      "outputs": [
        {
          "output_type": "execute_result",
          "data": {
            "text/plain": [
              "'blue'"
            ],
            "application/vnd.google.colaboratory.intrinsic+json": {
              "type": "string"
            }
          },
          "metadata": {},
          "execution_count": 19
        }
      ]
    },
    {
      "cell_type": "code",
      "source": [
        "#13. Write a code to find the minimum number in the tuple (10, 20, 5, 15).\n",
        "nums=(10, 20, 5, 15)\n",
        "min(nums)"
      ],
      "metadata": {
        "colab": {
          "base_uri": "https://localhost:8080/"
        },
        "id": "GF1TfuyKJAtf",
        "outputId": "594778d9-ec4a-410a-8281-6ba1202ffb25"
      },
      "execution_count": 21,
      "outputs": [
        {
          "output_type": "execute_result",
          "data": {
            "text/plain": [
              "5"
            ]
          },
          "metadata": {},
          "execution_count": 21
        }
      ]
    },
    {
      "cell_type": "code",
      "source": [
        "#14. Write a code to find the index of the element \"cat\" in the tuple ('dog', 'cat', 'rabbit').\n",
        "animals=('dog', 'cat', 'rabbit')\n",
        "animals.index('cat')"
      ],
      "metadata": {
        "colab": {
          "base_uri": "https://localhost:8080/"
        },
        "id": "q_pSsjQkJFEe",
        "outputId": "10f589c1-e05b-4da2-86ea-975c7f6e9c15"
      },
      "execution_count": 22,
      "outputs": [
        {
          "output_type": "execute_result",
          "data": {
            "text/plain": [
              "1"
            ]
          },
          "metadata": {},
          "execution_count": 22
        }
      ]
    },
    {
      "cell_type": "code",
      "source": [
        "#15. Write a code to create a tuple containing three different fruits and check if \"kiwi\" is in it.\n",
        "fruits = ('mango', 'kiwi', 'guava')\n",
        "if 'kiwi' in fruits:\n",
        "  print(\"Kiwi is present\")\n",
        "else:\n",
        "  print(\"Kiwi is not present\")"
      ],
      "metadata": {
        "colab": {
          "base_uri": "https://localhost:8080/"
        },
        "id": "uwdZRSJMJHIc",
        "outputId": "6e4e0a02-4259-4da3-a6ad-9fa36229a0cb"
      },
      "execution_count": 24,
      "outputs": [
        {
          "output_type": "stream",
          "name": "stdout",
          "text": [
            "Kiwi is present\n"
          ]
        }
      ]
    },
    {
      "cell_type": "code",
      "source": [
        "#16. Write a code to create a set with the elements 'a', 'b', 'c' and print it.\n",
        "s={'a', 'b', 'c'}\n",
        "print(s)"
      ],
      "metadata": {
        "colab": {
          "base_uri": "https://localhost:8080/"
        },
        "id": "s_-3dYxqJI9K",
        "outputId": "48d1be18-6434-40ef-c263-3c4ab00c71a2"
      },
      "execution_count": 27,
      "outputs": [
        {
          "output_type": "stream",
          "name": "stdout",
          "text": [
            "{'b', 'a', 'c'}\n"
          ]
        }
      ]
    },
    {
      "cell_type": "code",
      "source": [
        "#17. Write a code to clear all elements from the set {1, 2, 3, 4, 5}.\n",
        "s = {1, 2, 3, 4, 5}\n",
        "s.clear()\n",
        "print(s)"
      ],
      "metadata": {
        "colab": {
          "base_uri": "https://localhost:8080/"
        },
        "id": "8OEPz3ddJLpI",
        "outputId": "9cc3bfd8-cc24-4d21-cea7-f6b3809479f5"
      },
      "execution_count": 29,
      "outputs": [
        {
          "output_type": "stream",
          "name": "stdout",
          "text": [
            "set()\n"
          ]
        }
      ]
    },
    {
      "cell_type": "code",
      "source": [
        "#18. Write a code to remove the element 4 from the set {1, 2, 3, 4}.\n",
        "s= {1, 2, 3, 4}\n",
        "s.remove(4)\n",
        "print(s)"
      ],
      "metadata": {
        "colab": {
          "base_uri": "https://localhost:8080/"
        },
        "id": "Shey0fMLJOI4",
        "outputId": "279076ac-084b-4ba9-bae0-d600ad49342f"
      },
      "execution_count": 30,
      "outputs": [
        {
          "output_type": "stream",
          "name": "stdout",
          "text": [
            "{1, 2, 3}\n"
          ]
        }
      ]
    },
    {
      "cell_type": "code",
      "source": [
        "#19. Write a code to find the union of two sets {1, 2, 3} and {3, 4, 5}.\n",
        "s1={1, 2, 3}\n",
        "s2={3, 4, 5}\n",
        "s1|s2"
      ],
      "metadata": {
        "colab": {
          "base_uri": "https://localhost:8080/"
        },
        "id": "f8H3mPtOJPGX",
        "outputId": "27a57a79-6825-480f-efec-1a4739bf8b3c"
      },
      "execution_count": 31,
      "outputs": [
        {
          "output_type": "execute_result",
          "data": {
            "text/plain": [
              "{1, 2, 3, 4, 5}"
            ]
          },
          "metadata": {},
          "execution_count": 31
        }
      ]
    },
    {
      "cell_type": "code",
      "source": [
        "#20. Write a code to find the intersection of two sets {1, 2, 3} and {2, 3, 4}.\n",
        "s1={1, 2, 3}\n",
        "s2={2, 3, 4}\n",
        "s1&s2"
      ],
      "metadata": {
        "colab": {
          "base_uri": "https://localhost:8080/"
        },
        "id": "rboYU_RbJP0L",
        "outputId": "f93aa84c-4687-41e1-8fc5-100ec050ffa7"
      },
      "execution_count": 32,
      "outputs": [
        {
          "output_type": "execute_result",
          "data": {
            "text/plain": [
              "{2, 3}"
            ]
          },
          "metadata": {},
          "execution_count": 32
        }
      ]
    },
    {
      "cell_type": "code",
      "source": [
        "#21. Write a code to create a dictionary with the keys \"name\", \"age\", and \"city\", and print it.\n",
        "d={\"name\":\"Rahul\", \"age\":10,\"city\":\"Bengaluru\"}\n",
        "print(d)"
      ],
      "metadata": {
        "colab": {
          "base_uri": "https://localhost:8080/"
        },
        "id": "a16dLOlrJQfq",
        "outputId": "f6aba0f9-0e0e-4d8c-cbf1-ef7ee3acda84"
      },
      "execution_count": 34,
      "outputs": [
        {
          "output_type": "stream",
          "name": "stdout",
          "text": [
            "{'name': 'Rahul', 'age': 10, 'city': 'Bengaluru'}\n"
          ]
        }
      ]
    },
    {
      "cell_type": "code",
      "source": [
        "#22. Write a code to add a new key-value pair \"country\": \"USA\" to the dictionary {'name': 'John', 'age': 25}.\n",
        "d= {'name': 'John', 'age': 25}\n",
        "d[\"country\"]=\"USA\"\n",
        "print(d)"
      ],
      "metadata": {
        "colab": {
          "base_uri": "https://localhost:8080/"
        },
        "id": "XijTBMWgJRnx",
        "outputId": "ed4b9988-7de0-47f0-abd1-2bb13f8ca8ee"
      },
      "execution_count": 38,
      "outputs": [
        {
          "output_type": "stream",
          "name": "stdout",
          "text": [
            "{'name': 'John', 'age': 25, 'country': 'USA'}\n"
          ]
        }
      ]
    },
    {
      "cell_type": "code",
      "source": [
        "#23. Write a code to access the value associated with the key \"name\" in the dictionary {'name': 'Alice', 'age': 30}.\n",
        "d={'name': 'Alice', 'age': 30}\n",
        "d['name']"
      ],
      "metadata": {
        "colab": {
          "base_uri": "https://localhost:8080/",
          "height": 36
        },
        "id": "13pK8FRBJSQ6",
        "outputId": "f0f440f3-6b02-4474-a38e-943155eb2054"
      },
      "execution_count": 39,
      "outputs": [
        {
          "output_type": "execute_result",
          "data": {
            "text/plain": [
              "'Alice'"
            ],
            "application/vnd.google.colaboratory.intrinsic+json": {
              "type": "string"
            }
          },
          "metadata": {},
          "execution_count": 39
        }
      ]
    },
    {
      "cell_type": "code",
      "source": [
        "#24. Write a code to remove the key \"age\" from the dictionary {'name': 'Bob', 'age': 22, 'city': 'New York'}.\n",
        "d={'name': 'Bob', 'age': 22, 'city': 'New York'}\n",
        "d.pop('age')\n",
        "print(d)"
      ],
      "metadata": {
        "colab": {
          "base_uri": "https://localhost:8080/"
        },
        "id": "zkv9mJWaJSvi",
        "outputId": "98affc3e-b686-4883-bb19-3f04077d102e"
      },
      "execution_count": 46,
      "outputs": [
        {
          "output_type": "stream",
          "name": "stdout",
          "text": [
            "{'name': 'Bob', 'city': 'New York'}\n"
          ]
        }
      ]
    },
    {
      "cell_type": "code",
      "source": [
        "#25. Write a code to check if the key \"city\" exists in the dictionary {'name': 'Alice', 'city': 'Paris'}.\n",
        "d= {'name': 'Alice', 'city': 'Paris'}\n",
        "if 'city' in d.keys():\n",
        "  print(\"City exists\")\n",
        "else:\n",
        "  print(\"City doesn't exist\")"
      ],
      "metadata": {
        "colab": {
          "base_uri": "https://localhost:8080/"
        },
        "id": "X9HP2cqXJTM2",
        "outputId": "981486a5-7f25-464b-9712-44338b798822"
      },
      "execution_count": 49,
      "outputs": [
        {
          "output_type": "stream",
          "name": "stdout",
          "text": [
            "City exists\n"
          ]
        }
      ]
    },
    {
      "cell_type": "code",
      "source": [
        "#26. Write a code to create a list, a tuple, and a dictionary, and print them all.\n",
        "my_list = [10, 20, 30, 40]\n",
        "my_tuple = (\"apple\", \"banana\", \"cherry\")\n",
        "my_dict = {\"name\": \"Alice\", \"age\": 25, \"city\": \"Bangalore\"}\n",
        "\n",
        "print(\"List:\", my_list)\n",
        "print(\"Tuple:\", my_tuple)\n",
        "print(\"Dictionary:\", my_dict)\n"
      ],
      "metadata": {
        "colab": {
          "base_uri": "https://localhost:8080/"
        },
        "id": "l5ofLthyJdYC",
        "outputId": "0ca83245-6afa-4e58-ef28-1ac0ad841e52"
      },
      "execution_count": 50,
      "outputs": [
        {
          "output_type": "stream",
          "name": "stdout",
          "text": [
            "List: [10, 20, 30, 40]\n",
            "Tuple: ('apple', 'banana', 'cherry')\n",
            "Dictionary: {'name': 'Alice', 'age': 25, 'city': 'Bangalore'}\n"
          ]
        }
      ]
    },
    {
      "cell_type": "code",
      "source": [
        "#27. Write a code to create a list of 5 random numbers between 1 and 100, sort it in ascending order, and print the result.(replaced)\n",
        "import random\n",
        "numbers = [random.randint(1, 100) for i in range(5)]\n",
        "numbers.sort()\n",
        "print(\"Sorted list:\", numbers)"
      ],
      "metadata": {
        "colab": {
          "base_uri": "https://localhost:8080/"
        },
        "id": "zXMc61r9Jeoe",
        "outputId": "a7938f3d-082a-46f9-cedc-1b918aae9524"
      },
      "execution_count": 55,
      "outputs": [
        {
          "output_type": "stream",
          "name": "stdout",
          "text": [
            "Sorted list: [15, 55, 58, 73, 94]\n"
          ]
        }
      ]
    },
    {
      "cell_type": "code",
      "source": [
        "#28. Write a code to create a list with strings and print the element at the third index.\n",
        "fruits=['apple','mango','kiwi','guava']\n",
        "fruits[2]"
      ],
      "metadata": {
        "colab": {
          "base_uri": "https://localhost:8080/",
          "height": 36
        },
        "id": "gfRAZjMRJfIP",
        "outputId": "e8640eed-4c31-44cb-f80d-0c97529315ea"
      },
      "execution_count": 56,
      "outputs": [
        {
          "output_type": "execute_result",
          "data": {
            "text/plain": [
              "'kiwi'"
            ],
            "application/vnd.google.colaboratory.intrinsic+json": {
              "type": "string"
            }
          },
          "metadata": {},
          "execution_count": 56
        }
      ]
    },
    {
      "cell_type": "code",
      "source": [
        "#29. Write a code to combine two dictionaries into one and print the result.\n",
        "dict1={'name': 'Alice', 'age': 25}\n",
        "dict2={'city': 'Bangalore'}\n",
        "dict1.update(dict2)\n",
        "print(dict1)"
      ],
      "metadata": {
        "colab": {
          "base_uri": "https://localhost:8080/"
        },
        "id": "FYSsy9jKJf6L",
        "outputId": "49171f8a-9fd1-483e-f3d1-369babafde4f"
      },
      "execution_count": 61,
      "outputs": [
        {
          "output_type": "stream",
          "name": "stdout",
          "text": [
            "{'name': 'Alice', 'age': 25, 'city': 'Bangalore'}\n"
          ]
        }
      ]
    },
    {
      "cell_type": "code",
      "source": [
        "#30. Write a code to convert a list of strings into a set.\n",
        "fruit_list=['apple','mango','kiwi','guava']\n",
        "fruit_set=set(fruit_list)\n",
        "print(fruit_set)"
      ],
      "metadata": {
        "colab": {
          "base_uri": "https://localhost:8080/"
        },
        "id": "zeDdZtx8JgbE",
        "outputId": "15f24abe-9a8b-4469-c023-4675dc0aaeb9"
      },
      "execution_count": 64,
      "outputs": [
        {
          "output_type": "stream",
          "name": "stdout",
          "text": [
            "{'kiwi', 'mango', 'guava', 'apple'}\n"
          ]
        }
      ]
    }
  ]
}