{
  "nbformat": 4,
  "nbformat_minor": 0,
  "metadata": {
    "colab": {
      "provenance": [],
      "authorship_tag": "ABX9TyM0t+efE/wVwTJwXPyZwqUw",
      "include_colab_link": true
    },
    "kernelspec": {
      "name": "python3",
      "display_name": "Python 3"
    },
    "language_info": {
      "name": "python"
    }
  },
  "cells": [
    {
      "cell_type": "markdown",
      "metadata": {
        "id": "view-in-github",
        "colab_type": "text"
      },
      "source": [
        "<a href=\"https://colab.research.google.com/github/shreyashpu1/PW-Skills-Assignments/blob/main/03_Functions.ipynb\" target=\"_parent\"><img src=\"https://colab.research.google.com/assets/colab-badge.svg\" alt=\"Open In Colab\"/></a>"
      ]
    },
    {
      "cell_type": "markdown",
      "source": [
        "#Theory Questions:"
      ],
      "metadata": {
        "id": "pL-Lt5VmX3xH"
      }
    },
    {
      "cell_type": "markdown",
      "source": [
        "1. What is the difference between a function and a method in Python?\n",
        "- A function is a block of reusable code defined using the def keyword. It can be called independently by its name.\n",
        "\n",
        "Example:\n",
        "```Python\n",
        "def greet(name):\n",
        "    return f\"Hello, {name}!\"\n",
        "print(greet(\"Alice\"))   # Calling a function\n",
        "```\n",
        "\n",
        "- A method is similar to a function but is associated with an object (i.e., it belongs to a class). It is always called using the object it is tied to.\n",
        "\n",
        "Example:\n",
        "```Python\n",
        "text = \"python\"\n",
        "print(text.upper())\n",
        "```  \n",
        "\n",
        "2. Explain the concept of function arguments and parameters in Python.\n",
        "- Parameters are the variables defined inside a function definition. They act as placeholders for values.\n",
        "- Arguments are the actual values you pass to the function when you call it.\n",
        "\n",
        "Example\n",
        "```Python\n",
        "# Here a and b are PARAMETERS\n",
        "def add(a, b):\n",
        "    return a + b\n",
        "\n",
        "# Here 5 and 10 are ARGUMENTS\n",
        "result = add(5, 10)\n",
        "print(\"Result:\", result)\n",
        "```\n",
        "\n",
        "3. What are the different ways to define and call a function in Python?\n",
        "- Function without parameters\n",
        "```Python\n",
        "def greet():\n",
        "    print(\"Hello, welcome to Python!\")\n",
        "greet()\n",
        "```\n",
        "- Function with parameters\n",
        "```Python\n",
        "def greet(name):\n",
        "    print(f\"Hello, {name}!\")\n",
        "greet(\"Alice\")  \n",
        "```\n",
        "- Function with return value\n",
        "```Python\n",
        "def add(a, b):\n",
        "    return a + b\n",
        "result = add(5, 3)\n",
        "print(\"Sum:\", result)\n",
        "```\n",
        "- Function with default arguments\n",
        "```Python\n",
        "def greet(name=\"User\"):\n",
        "    print(f\"Hello, {name}!\")\n",
        "greet()          # Uses default\n",
        "greet(\"Bob\")     # Overrides default\n",
        "```\n",
        "- Function with keyword arguments\n",
        "```Python\n",
        "def introduce(name, age):\n",
        "    print(f\"My name is {name} and I am {age} years old.\")\n",
        "introduce(age=22, name=\"Alice\")\n",
        "```\n",
        "- Lambda functions\n",
        "```Python\n",
        "square = lambda x: x * x\n",
        "print(\"Square:\", square(4))\n",
        "```\n",
        "\n",
        "4. What is the purpose of the `return` statement in a Python function?\n",
        "- The return statement in Python is used to send the result of a function back to the part of the program where the function was called. It allows the function to produce an output that can be stored in a variable or used in further calculations. Without a return statement, a function will simply perform its task but give back None by default.\n",
        "\n",
        "Example:\n",
        "```Python\n",
        "def add(a, b):\n",
        "    return a + b\n",
        "\n",
        "result = add(5, 3)\n",
        "print(\"Sum:\", result)\n",
        "```\n",
        "\n",
        "5. What are iterators in Python and how do they differ from iterables?\n",
        "- An iterable is any Python object that can return its elements one by one, such as lists, tuples, strings, or sets. You can loop through them using a for loop.\n",
        "- An iterator is an object that produces elements from an iterable one at a time using the __iter__() and __next__() methods. You can get an iterator from an iterable by using the iter() function, and then fetch elements using next().\n",
        "\n",
        "Example:\n",
        "```Python\n",
        "# Iterable\n",
        "numbers = [1, 2, 3]\n",
        "\n",
        "# Iterator\n",
        "it = iter(numbers)\n",
        "print(next(it))  # 1\n",
        "print(next(it))  # 2\n",
        "print(next(it))  # 3\n",
        "```\n",
        "\n",
        "6. Explain the concept of generators in Python and how they are defined.\n",
        "- A generator in Python is a special type of function that allows you to create an iterator in a simple way. Instead of returning all values at once, a generator produces values one at a time using the yield keyword. This makes generators memory-efficient, especially when working with large datasets, because they don’t store all items in memory.\n",
        "- Generators are defined just like normal functions but use yield instead of return. Each time the generator is called, it pauses at yield and continues from there when the next value is requested.\n",
        "\n",
        "Example:\n",
        "```Python\n",
        "def count_up_to(n):\n",
        "    i = 1\n",
        "    while i <= n:\n",
        "        yield i\n",
        "        i += 1\n",
        "for num in count_up_to(5):\n",
        "    print(num)\n",
        "```\n",
        "\n",
        "7. What are the advantages of using generators over regular functions?\n",
        "- Memory efficiency – Generators produce values one at a time instead of storing the entire result in memory, which is useful for large datasets.\n",
        "- Faster performance – Since values are generated on demand, they can be faster when working with sequences that don’t need to be stored completely.\n",
        "- Lazy evaluation – Generators generate the next value only when needed, which saves resources.\n",
        "\n",
        "Example:\n",
        "```Python\n",
        "def fibonacci(n):\n",
        "    a, b = 0, 1\n",
        "    for _ in range(n):\n",
        "        yield a  \n",
        "        a, b = b, a + b\n",
        "\n",
        "# Using the generator\n",
        "fib = fibonacci(100000)\n",
        "print(next(fib))\n",
        "print(next(fib))\n",
        "print(next(fib))\n",
        "print(next(fib))\n",
        "print(next(fib)) #Values are generated only when needed\n",
        "```\n",
        "\n",
        "8. What is a lambda function in Python and when is it typically used?\n",
        "- A lambda function in Python is a small, anonymous (unnamed) function defined using the lambda keyword. It can have any number of arguments but only one expression, which is evaluated and returned.\n",
        "\n",
        "Syntax:\n",
        "\n",
        "lambda arguments: expression\n",
        "\n",
        "Example:\n",
        "```Python\n",
        "square = lambda x: x * x\n",
        "print(square(5))        \n",
        "```\n",
        "\n",
        "9. Explain the purpose and usage of the `map()` function in Python.\n",
        "- The map() function in Python is used to apply a function to each item of an iterable (like a list, tuple, etc.) and return a new map object (which is an iterator).\n",
        "\n",
        "Syntax:\n",
        "map(function, iterable)\n",
        "\n",
        "Example:\n",
        "```Python\n",
        "numbers = [1, 2, 3, 4, 5]\n",
        "squares = map(lambda x:x*x, numbers)  \n",
        "print(list(squares))\n",
        "```\n",
        "\n",
        "10. What is the difference between `map()`, `reduce()`, and `filter()` functions in Python?\n",
        "- map()\n",
        "  - Purpose: Apply a function to each element of an iterable.\n",
        "  - Returns: A new iterable (map object).\n",
        "  - Transform all the elements as per the function\n",
        "\n",
        "Example: Squaring numbers\n",
        "```Python\n",
        "numbers = [1, 2, 3, 4]\n",
        "squares = map(lambda x: x**2, numbers)\n",
        "print(list(squares))\n",
        "```\n",
        "\n",
        "- filter()\n",
        "  - Purpose: Filter elements from an iterable based on a condition (True/False).\n",
        "  - Returns: Only the elements that satisfy the condition.\n",
        "  - Select specific elements as per the condition\n",
        "\n",
        "Example: Keep even numbers\n",
        "```Python\n",
        "numbers = [1, 2, 3, 4, 5, 6]\n",
        "evens = filter(lambda x: x % 2 == 0, numbers)\n",
        "print(list(evens))   # [2, 4, 6]\n",
        "```\n",
        "\n",
        "- reduce() (from functools module)\n",
        "  - Purpose: Apply a function cumulatively to reduce an iterable into a single value.\n",
        "  - Returns: One result (not a list).\n",
        "  - Works cumulatively and gives aggregate result (sum, product, etc.)\n",
        "\n",
        "Example: Multiply all numbers\n",
        "```Python\n",
        "from functools import reduce\n",
        "\n",
        "numbers = [1, 2, 3, 4]\n",
        "product = reduce(lambda x, y: x * y, numbers)\n",
        "print(product)\n",
        "```\n",
        "\n",
        "11. Using pen & Paper write the internal mechanism for sum operation using  reduce function on this given list:[47,11,42,13];\n",
        "![11-reduce.jpg](data:image/jpeg;base64,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)"
      ],
      "metadata": {
        "id": "MQ3Br6gKX3Td"
      }
    },
    {
      "cell_type": "markdown",
      "source": [
        "#Practical Questions:"
      ],
      "metadata": {
        "id": "uiBR_zJ3-bQZ"
      }
    },
    {
      "cell_type": "code",
      "execution_count": 18,
      "metadata": {
        "colab": {
          "base_uri": "https://localhost:8080/"
        },
        "id": "gqLC-4JtXzYd",
        "outputId": "3136d54c-0be3-4193-e562-afdfaa461f76"
      },
      "outputs": [
        {
          "output_type": "stream",
          "name": "stdout",
          "text": [
            "12\n"
          ]
        }
      ],
      "source": [
        "#1. Write a Python function that takes a list of numbers as input and returns the sum of all even numbers in the list.\n",
        "lst=[1,2,3,4,5,6]\n",
        "def sum_even(nums):\n",
        "  sum=0\n",
        "  for num in nums:\n",
        "    if(num%2==0):\n",
        "      sum+=num\n",
        "  return sum\n",
        "print(sum_even(lst))"
      ]
    },
    {
      "cell_type": "code",
      "source": [
        "#2. Create a Python function that accepts a string and returns the reverse of that string.\n",
        "name=\"Rahul\"\n",
        "def reverse_str(word):\n",
        "  return word[::-1]\n",
        "print(reverse_str(name))"
      ],
      "metadata": {
        "colab": {
          "base_uri": "https://localhost:8080/"
        },
        "id": "k1OuDsWI-zeB",
        "outputId": "5420bcd7-b58a-4932-dff9-d9307c0ab9d9"
      },
      "execution_count": 20,
      "outputs": [
        {
          "output_type": "stream",
          "name": "stdout",
          "text": [
            "luhaR\n"
          ]
        }
      ]
    },
    {
      "cell_type": "code",
      "source": [
        "#3. Implement a Python function that takes a list of integers and returns a new list containing the squares of each number.\n",
        "lst=[1,2,3,4,5,6]\n",
        "def squares(nums):\n",
        "  sq_list=[]\n",
        "  for i in nums:\n",
        "    sq_list.append(i*i)\n",
        "  return(sq_list)\n",
        "print(squares(lst))"
      ],
      "metadata": {
        "colab": {
          "base_uri": "https://localhost:8080/"
        },
        "id": "3WEL4P4v-29G",
        "outputId": "e97ce06e-5090-49f8-92d1-e8e5e5952711"
      },
      "execution_count": 21,
      "outputs": [
        {
          "output_type": "stream",
          "name": "stdout",
          "text": [
            "[1, 4, 9, 16, 25, 36]\n"
          ]
        }
      ]
    },
    {
      "cell_type": "code",
      "source": [
        "#4. Write a Python function that checks if a given number is prime or not from 1 to 200.\n",
        "def is_prime(n):\n",
        "    if n < 2:   # 0 and 1 are not prime\n",
        "        return str(n)+\" is not prime\"\n",
        "    for i in range(2, n):\n",
        "        if n % i == 0:\n",
        "            return str(n)+\" is not prime\"\n",
        "    return str(n)+\" is a prime number\"\n",
        "\n",
        "# Example usage\n",
        "print(is_prime(1))\n",
        "print(is_prime(2))\n",
        "print(is_prime(157))\n",
        "print(is_prime(200))"
      ],
      "metadata": {
        "colab": {
          "base_uri": "https://localhost:8080/"
        },
        "id": "0_b-sjlx-33Z",
        "outputId": "79223591-f7df-4f90-d0c8-6c57f566e538"
      },
      "execution_count": 37,
      "outputs": [
        {
          "output_type": "stream",
          "name": "stdout",
          "text": [
            "1 is not prime\n",
            "2 is a prime number\n",
            "157 is a prime number\n",
            "200 is not prime\n"
          ]
        }
      ]
    },
    {
      "cell_type": "code",
      "source": [
        "#5. Create an iterator class in Python that generates the Fibonacci sequence up to a specified number of terms.\n",
        "def fibonacci(n):\n",
        "    a, b = 0, 1\n",
        "    for _ in range(n):\n",
        "        yield a\n",
        "        a, b = b, a + b\n",
        "\n",
        "# Create an iterator object\n",
        "fib_iter = fibonacci(10)\n",
        "\n",
        "# Using next() to get values manually\n",
        "print(next(fib_iter))  # 0\n",
        "print(next(fib_iter))  # 1\n",
        "print(next(fib_iter))  # 1\n"
      ],
      "metadata": {
        "colab": {
          "base_uri": "https://localhost:8080/"
        },
        "id": "AEvZ-Lg6-4mT",
        "outputId": "32d9760d-7b61-47c7-a66a-72d9ecb4ba4a"
      },
      "execution_count": 39,
      "outputs": [
        {
          "output_type": "stream",
          "name": "stdout",
          "text": [
            "0\n",
            "1\n",
            "1\n"
          ]
        }
      ]
    },
    {
      "cell_type": "code",
      "source": [
        "#6. Write a generator function in Python that yields the powers of 2 up to a given exponent.\n",
        "def power_of_two(n):\n",
        "  power=1\n",
        "  for i in range(n):\n",
        "    power*=2\n",
        "    yield power\n",
        "for powers in power_of_two(10):\n",
        "  print(powers)\n"
      ],
      "metadata": {
        "colab": {
          "base_uri": "https://localhost:8080/"
        },
        "id": "NoWp0a6v-42p",
        "outputId": "d0d6dcf1-2a8d-448c-e823-993d8dfbc16d"
      },
      "execution_count": 41,
      "outputs": [
        {
          "output_type": "stream",
          "name": "stdout",
          "text": [
            "2\n",
            "4\n",
            "8\n",
            "16\n",
            "32\n",
            "64\n",
            "128\n",
            "256\n",
            "512\n",
            "1024\n"
          ]
        }
      ]
    },
    {
      "cell_type": "code",
      "source": [
        "#7. Implement a generator function that reads a file line by line and yields each line as a string.\n",
        "from google.colab import files\n",
        "def read_file_lines(file_path):\n",
        "    with open(file_path, 'r') as file:\n",
        "        for line in file:\n",
        "            yield line.strip()  # remove newline characters\n",
        "\n",
        "uploaded = files.upload()\n",
        "file_path = \"03_Example.txt\"\n",
        "for line in read_file_lines(file_path):\n",
        "    print(line)"
      ],
      "metadata": {
        "colab": {
          "base_uri": "https://localhost:8080/",
          "height": 160
        },
        "id": "BoqhvwrZ-5CF",
        "outputId": "f6f2b22d-9191-4ff4-b595-85f26897f74a"
      },
      "execution_count": 49,
      "outputs": [
        {
          "output_type": "display_data",
          "data": {
            "text/plain": [
              "<IPython.core.display.HTML object>"
            ],
            "text/html": [
              "\n",
              "     <input type=\"file\" id=\"files-9d06c0ba-87c1-44b5-a18f-28be8cbec17e\" name=\"files[]\" multiple disabled\n",
              "        style=\"border:none\" />\n",
              "     <output id=\"result-9d06c0ba-87c1-44b5-a18f-28be8cbec17e\">\n",
              "      Upload widget is only available when the cell has been executed in the\n",
              "      current browser session. Please rerun this cell to enable.\n",
              "      </output>\n",
              "      <script>// Copyright 2017 Google LLC\n",
              "//\n",
              "// Licensed under the Apache License, Version 2.0 (the \"License\");\n",
              "// you may not use this file except in compliance with the License.\n",
              "// You may obtain a copy of the License at\n",
              "//\n",
              "//      http://www.apache.org/licenses/LICENSE-2.0\n",
              "//\n",
              "// Unless required by applicable law or agreed to in writing, software\n",
              "// distributed under the License is distributed on an \"AS IS\" BASIS,\n",
              "// WITHOUT WARRANTIES OR CONDITIONS OF ANY KIND, either express or implied.\n",
              "// See the License for the specific language governing permissions and\n",
              "// limitations under the License.\n",
              "\n",
              "/**\n",
              " * @fileoverview Helpers for google.colab Python module.\n",
              " */\n",
              "(function(scope) {\n",
              "function span(text, styleAttributes = {}) {\n",
              "  const element = document.createElement('span');\n",
              "  element.textContent = text;\n",
              "  for (const key of Object.keys(styleAttributes)) {\n",
              "    element.style[key] = styleAttributes[key];\n",
              "  }\n",
              "  return element;\n",
              "}\n",
              "\n",
              "// Max number of bytes which will be uploaded at a time.\n",
              "const MAX_PAYLOAD_SIZE = 100 * 1024;\n",
              "\n",
              "function _uploadFiles(inputId, outputId) {\n",
              "  const steps = uploadFilesStep(inputId, outputId);\n",
              "  const outputElement = document.getElementById(outputId);\n",
              "  // Cache steps on the outputElement to make it available for the next call\n",
              "  // to uploadFilesContinue from Python.\n",
              "  outputElement.steps = steps;\n",
              "\n",
              "  return _uploadFilesContinue(outputId);\n",
              "}\n",
              "\n",
              "// This is roughly an async generator (not supported in the browser yet),\n",
              "// where there are multiple asynchronous steps and the Python side is going\n",
              "// to poll for completion of each step.\n",
              "// This uses a Promise to block the python side on completion of each step,\n",
              "// then passes the result of the previous step as the input to the next step.\n",
              "function _uploadFilesContinue(outputId) {\n",
              "  const outputElement = document.getElementById(outputId);\n",
              "  const steps = outputElement.steps;\n",
              "\n",
              "  const next = steps.next(outputElement.lastPromiseValue);\n",
              "  return Promise.resolve(next.value.promise).then((value) => {\n",
              "    // Cache the last promise value to make it available to the next\n",
              "    // step of the generator.\n",
              "    outputElement.lastPromiseValue = value;\n",
              "    return next.value.response;\n",
              "  });\n",
              "}\n",
              "\n",
              "/**\n",
              " * Generator function which is called between each async step of the upload\n",
              " * process.\n",
              " * @param {string} inputId Element ID of the input file picker element.\n",
              " * @param {string} outputId Element ID of the output display.\n",
              " * @return {!Iterable<!Object>} Iterable of next steps.\n",
              " */\n",
              "function* uploadFilesStep(inputId, outputId) {\n",
              "  const inputElement = document.getElementById(inputId);\n",
              "  inputElement.disabled = false;\n",
              "\n",
              "  const outputElement = document.getElementById(outputId);\n",
              "  outputElement.innerHTML = '';\n",
              "\n",
              "  const pickedPromise = new Promise((resolve) => {\n",
              "    inputElement.addEventListener('change', (e) => {\n",
              "      resolve(e.target.files);\n",
              "    });\n",
              "  });\n",
              "\n",
              "  const cancel = document.createElement('button');\n",
              "  inputElement.parentElement.appendChild(cancel);\n",
              "  cancel.textContent = 'Cancel upload';\n",
              "  const cancelPromise = new Promise((resolve) => {\n",
              "    cancel.onclick = () => {\n",
              "      resolve(null);\n",
              "    };\n",
              "  });\n",
              "\n",
              "  // Wait for the user to pick the files.\n",
              "  const files = yield {\n",
              "    promise: Promise.race([pickedPromise, cancelPromise]),\n",
              "    response: {\n",
              "      action: 'starting',\n",
              "    }\n",
              "  };\n",
              "\n",
              "  cancel.remove();\n",
              "\n",
              "  // Disable the input element since further picks are not allowed.\n",
              "  inputElement.disabled = true;\n",
              "\n",
              "  if (!files) {\n",
              "    return {\n",
              "      response: {\n",
              "        action: 'complete',\n",
              "      }\n",
              "    };\n",
              "  }\n",
              "\n",
              "  for (const file of files) {\n",
              "    const li = document.createElement('li');\n",
              "    li.append(span(file.name, {fontWeight: 'bold'}));\n",
              "    li.append(span(\n",
              "        `(${file.type || 'n/a'}) - ${file.size} bytes, ` +\n",
              "        `last modified: ${\n",
              "            file.lastModifiedDate ? file.lastModifiedDate.toLocaleDateString() :\n",
              "                                    'n/a'} - `));\n",
              "    const percent = span('0% done');\n",
              "    li.appendChild(percent);\n",
              "\n",
              "    outputElement.appendChild(li);\n",
              "\n",
              "    const fileDataPromise = new Promise((resolve) => {\n",
              "      const reader = new FileReader();\n",
              "      reader.onload = (e) => {\n",
              "        resolve(e.target.result);\n",
              "      };\n",
              "      reader.readAsArrayBuffer(file);\n",
              "    });\n",
              "    // Wait for the data to be ready.\n",
              "    let fileData = yield {\n",
              "      promise: fileDataPromise,\n",
              "      response: {\n",
              "        action: 'continue',\n",
              "      }\n",
              "    };\n",
              "\n",
              "    // Use a chunked sending to avoid message size limits. See b/62115660.\n",
              "    let position = 0;\n",
              "    do {\n",
              "      const length = Math.min(fileData.byteLength - position, MAX_PAYLOAD_SIZE);\n",
              "      const chunk = new Uint8Array(fileData, position, length);\n",
              "      position += length;\n",
              "\n",
              "      const base64 = btoa(String.fromCharCode.apply(null, chunk));\n",
              "      yield {\n",
              "        response: {\n",
              "          action: 'append',\n",
              "          file: file.name,\n",
              "          data: base64,\n",
              "        },\n",
              "      };\n",
              "\n",
              "      let percentDone = fileData.byteLength === 0 ?\n",
              "          100 :\n",
              "          Math.round((position / fileData.byteLength) * 100);\n",
              "      percent.textContent = `${percentDone}% done`;\n",
              "\n",
              "    } while (position < fileData.byteLength);\n",
              "  }\n",
              "\n",
              "  // All done.\n",
              "  yield {\n",
              "    response: {\n",
              "      action: 'complete',\n",
              "    }\n",
              "  };\n",
              "}\n",
              "\n",
              "scope.google = scope.google || {};\n",
              "scope.google.colab = scope.google.colab || {};\n",
              "scope.google.colab._files = {\n",
              "  _uploadFiles,\n",
              "  _uploadFilesContinue,\n",
              "};\n",
              "})(self);\n",
              "</script> "
            ]
          },
          "metadata": {}
        },
        {
          "output_type": "stream",
          "name": "stdout",
          "text": [
            "Saving 03_Example.txt to 03_Example (3).txt\n",
            "Python is fun.\n",
            "Generators are memory efficient.\n",
            "Iterators can be created from iterables.\n",
            "File handling is important in data analysis.\n",
            "Always close files or use 'with' statement.\n"
          ]
        }
      ]
    },
    {
      "cell_type": "code",
      "source": [
        "#8. Use a lambda function in Python to sort a list of tuples based on the second element of each tuple.\n",
        "tup_list=[(1,4,3),(2,3,5),(1,2,9,9)]\n",
        "sorted_data = sorted(tup_list, key=lambda x: x[1])\n",
        "print(sorted_data)"
      ],
      "metadata": {
        "colab": {
          "base_uri": "https://localhost:8080/"
        },
        "id": "r_s3r5xK-5Gk",
        "outputId": "b08c44e8-49f3-45e3-f7da-9edd113823de"
      },
      "execution_count": 50,
      "outputs": [
        {
          "output_type": "stream",
          "name": "stdout",
          "text": [
            "[(1, 2, 9, 9), (2, 3, 5), (1, 4, 3)]\n"
          ]
        }
      ]
    },
    {
      "cell_type": "code",
      "source": [
        "#9. Write a Python program that uses `map()` to convert a list of temperatures from Celsius to Fahrenheit.\n",
        "temp_c=[10,20,30,40]\n",
        "temp_f=list(map((lambda x:(x * 9/5) + 32),temp_c))\n",
        "print(temp_f)"
      ],
      "metadata": {
        "colab": {
          "base_uri": "https://localhost:8080/"
        },
        "id": "alP2W-xd-5Iy",
        "outputId": "2155a779-a157-4709-daf2-2012f99630cb"
      },
      "execution_count": 56,
      "outputs": [
        {
          "output_type": "stream",
          "name": "stdout",
          "text": [
            "[50.0, 68.0, 86.0, 104.0]\n"
          ]
        }
      ]
    },
    {
      "cell_type": "code",
      "source": [
        "#10. Create a Python program that uses `filter()` to remove all the vowels from a given string.\n",
        "string=\"I am a very good guy\"\n",
        "rem_vowels=filter(lambda x:x.lower() not in 'aeiou',string)\n",
        "string_without_vowels = ''.join(rem_vowels)\n",
        "print(string_without_vowels)"
      ],
      "metadata": {
        "colab": {
          "base_uri": "https://localhost:8080/"
        },
        "id": "K31p8geK-5Kv",
        "outputId": "2977db21-84ca-4f43-d560-c6defb0c1c78"
      },
      "execution_count": 65,
      "outputs": [
        {
          "output_type": "stream",
          "name": "stdout",
          "text": [
            " m  vry gd gy\n"
          ]
        }
      ]
    },
    {
      "cell_type": "code",
      "source": [
        "#11) Imagine an accounting routine used in a book shop. It works on a list with sublists, which look like this:\n",
        "'''Write a Python program, which returns a list with 2-tuples. Each tuple consists of the order number and the\n",
        "product of the price per item and the quantity. The product should be increased by 10,- € if the value of the\n",
        "order is smaller than 100,00 €.\n",
        "\n",
        "Write a Python program using lambda and map.'''\n",
        "\n",
        "orders = [\n",
        "    [34587, 'Learning Python, Mark Lutz', 4, 40.95],\n",
        "    [98762, 'Programming Python, Mark Lutz', 5, 56.80],\n",
        "    [77226, 'Head First Python, Paul Barry', 3, 32.95],\n",
        "    [88112, 'Einführung in Python3, Bernd Klein', 3, 24.99]\n",
        "]\n",
        "\n",
        "result = list(map(lambda order: (order[0],(order[2] * order[3] + 10) if (order[2] * order[3]) < 100 else (order[2] * order[3])), orders))\n",
        "print(result)\n"
      ],
      "metadata": {
        "colab": {
          "base_uri": "https://localhost:8080/"
        },
        "id": "YqAk3Ds9-5Mx",
        "outputId": "ff15f1d4-3263-4463-baa3-48a26837d6f2"
      },
      "execution_count": 70,
      "outputs": [
        {
          "output_type": "stream",
          "name": "stdout",
          "text": [
            "[(34587, 163.8), (98762, 284.0), (77226, 108.85000000000001), (88112, 84.97)]\n"
          ]
        }
      ]
    }
  ]
}