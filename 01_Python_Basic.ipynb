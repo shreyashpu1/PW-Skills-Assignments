{
  "nbformat": 4,
  "nbformat_minor": 0,
  "metadata": {
    "colab": {
      "provenance": [],
      "authorship_tag": "ABX9TyNS5+jDuHgdOY/otJM3tdna",
      "include_colab_link": true
    },
    "kernelspec": {
      "name": "python3",
      "display_name": "Python 3"
    },
    "language_info": {
      "name": "python"
    }
  },
  "cells": [
    {
      "cell_type": "markdown",
      "metadata": {
        "id": "view-in-github",
        "colab_type": "text"
      },
      "source": [
        "<a href=\"https://colab.research.google.com/github/shreyashpu1/PW-Skills-Assignments/blob/main/01_Python_Basic.ipynb\" target=\"_parent\"><img src=\"https://colab.research.google.com/assets/colab-badge.svg\" alt=\"Open In Colab\"/></a>"
      ]
    },
    {
      "cell_type": "markdown",
      "source": [
        "#Python Basics Questions"
      ],
      "metadata": {
        "id": "Qc2FJTjIi-7z"
      }
    },
    {
      "cell_type": "markdown",
      "source": [
        "1. What is Python, and why is it popular?\n",
        "- Python is a high-level programming language used to give instructions to a computer. It is popular because it is simple to learn and easy to read, even for beginners. Python can be used in many areas such as web development, data science, artificial intelligence, automation, and game development. It also has a large community and many built-in libraries that make programming faster and easier.\n",
        "\n",
        "2. What is an interpreter in Python?\n",
        "- An interpreter in Python is a program that reads and runs Python code line by line. Instead of converting the whole program into machine code at once, the interpreter executes each line directly, which makes it easy to test and debug programs. This is why we can run Python code interactively in the terminal or Jupyter Notebook. The Python interpreter is what allows the computer to understand and carry out the instructions written in Python.\n",
        "\n",
        "3. What are pre-defined keywords in Python?\n",
        "- Pre-defined keywords in Python are special words that have a fixed meaning and purpose in the language. They are reserved by Python and cannot be used as variable names, function names, or identifiers. Examples of Python keywords include if, else, while, for, True, False, and class. These keywords are used to define the structure and rules of Python programs.\n",
        "\n",
        "4. Can keywords be used as variable names?\n",
        "- In Python, keywords are reserved words and normally cannot be used as variable names (e.g., if, for, while). If we try to use them, Python will give a syntax error. However, some built-in functions like print or sum are not keywords but predefined names. These can be used as variable names, but it is not recommended because they will lose their original behavior.\n",
        "\n",
        "5. What is mutability in Python?\n",
        "- Mutability in Python means whether the value of an object can be changed after it is created. If an object is mutable, we can change its content without creating a new object. For example, lists and dictionaries are mutable because we can add, remove, or modify their elements. On the other hand, strings and tuples are immutable, which means once they are created, their values cannot be changed.\n",
        "\n",
        "6. Why are lists mutable, but tuples are immutable?\n",
        "- Lists in Python are mutable because their elements can be changed, added, or removed after the list is created. This makes lists flexible when we want to work with data that can change. Tuples, on the other hand, are immutable, which means once a tuple is created, its elements cannot be modified. Tuples are made immutable to provide fixed data structures that are safe to use when we don’t want the values to change accidentally.\n",
        "\n",
        "7. What is the difference between “==” and “is” operators in Python?\n",
        "- In Python, the == operator checks whether the values of two objects are the same, while the 'is' operator checks whether two objects refer to the same memory location.\n",
        "\n",
        "8. What are logical operators in Python?\n",
        "- Logical operators in Python are used to combine conditional statements and return a Boolean result (True or False). The three logical operators are:\n",
        "- and : Returns True if both conditions are true.\n",
        "- or : Returns True if at least one condition is true.\n",
        "- not : Returns the opposite (negation) of the condition.\n",
        "\n",
        "9. What is type casting in Python?\n",
        "- Type casting in Python means converting a value from one data type to another.\n",
        "\n",
        "10. What is the difference between implicit and explicit type casting?\n",
        "- Implicit type casting is automatically by Python and happens when Python converts one data type into another without losing information.\n",
        "- Explicit type casting is done manually by the programmer using functions like int(), float(), str(), etc. Here we decide how the data should be converted.\n",
        "\n",
        "12. What is the purpose of conditional statements in Python?\n",
        "- The purpose of conditional statements in Python is to make decisions in a program. They allow the program to execute certain blocks of code only when a specific condition is true. This helps in controlling the flow of the program.\n",
        "\n",
        "13. How does the elif statement work?\n",
        "- The elif statement in Python is short for “else if” and it is used when we need to check multiple conditions in sequence. If the first if condition is false, Python will check the 'elif' condition. If that is also false, it will move on to the next 'elif' (if any), and finally to 'else' if no condition is true.\n",
        "\n",
        "14. What is the difference between for and while loops?\n",
        "- For Loop is used when we know the number of times we want to repeat something and it is commonly used to iterate over sequences like lists, strings, or ranges.\n",
        "- While Loop is used when we don’t know in advance how many times we need to repeat and the loop continues until a condition becomes false.\n",
        "\n",
        "15. Describe a scenario where a while loop is more suitable than a for loop.\n",
        "- If we need a number guessing program we can use while loop so that the user has to enter number inputs until a predefined number is guessed."
      ],
      "metadata": {
        "id": "BCXLsPwRjZ5K"
      }
    },
    {
      "cell_type": "markdown",
      "source": [
        "#Practical Questions"
      ],
      "metadata": {
        "id": "iXTMjwGRZ2uS"
      }
    },
    {
      "cell_type": "code",
      "source": [
        "#1. Write a Python program to print \"Hello, World!\".\n",
        "print (\"Hello, World!\")"
      ],
      "metadata": {
        "colab": {
          "base_uri": "https://localhost:8080/"
        },
        "id": "cjB2QUJznmVp",
        "outputId": "e6251aa6-3167-467c-a4d1-84141682f1b2"
      },
      "execution_count": 1,
      "outputs": [
        {
          "output_type": "stream",
          "name": "stdout",
          "text": [
            "Hello, World!\n"
          ]
        }
      ]
    },
    {
      "cell_type": "code",
      "source": [
        "#2. Write a Python program that displays your name and age.\n",
        "name=input(\"Enter your name: \")\n",
        "age=input(\"Enter your age: \")\n",
        "print(\"Name:\",name)\n",
        "print(\"Age:\",age)"
      ],
      "metadata": {
        "colab": {
          "base_uri": "https://localhost:8080/"
        },
        "id": "hsadCaZ6aMPD",
        "outputId": "461c9e7b-224a-4b41-b508-ed4baba85bea"
      },
      "execution_count": 2,
      "outputs": [
        {
          "output_type": "stream",
          "name": "stdout",
          "text": [
            "Enter your name: Shreyash\n",
            "Enter your age: 24\n",
            "Name: Shreyash\n",
            "Age: 24\n"
          ]
        }
      ]
    },
    {
      "cell_type": "code",
      "source": [
        "#3. Write code to print all the pre-defined keywords in Python using the keyword library.\n",
        "import keyword\n",
        "print(\"Python Keywords are:\")\n",
        "print(keyword.kwlist)"
      ],
      "metadata": {
        "colab": {
          "base_uri": "https://localhost:8080/"
        },
        "id": "Iy80lloCa1qC",
        "outputId": "2dab76ba-cb4e-4ecc-dbed-2a7d1471021d"
      },
      "execution_count": 4,
      "outputs": [
        {
          "output_type": "stream",
          "name": "stdout",
          "text": [
            "Python Keywords are:\n",
            "['False', 'None', 'True', 'and', 'as', 'assert', 'async', 'await', 'break', 'class', 'continue', 'def', 'del', 'elif', 'else', 'except', 'finally', 'for', 'from', 'global', 'if', 'import', 'in', 'is', 'lambda', 'nonlocal', 'not', 'or', 'pass', 'raise', 'return', 'try', 'while', 'with', 'yield']\n"
          ]
        }
      ]
    },
    {
      "cell_type": "code",
      "source": [
        "#4. Write a program that checks if a given word is a Python keyword.\n",
        "import keyword\n",
        "word=input(\"Enter a word:\")\n",
        "if(keyword.iskeyword(word)):\n",
        "  print(\"The entered word is a keyword\")\n",
        "else:\n",
        "  print(\"The entered word is not a keyword\")"
      ],
      "metadata": {
        "colab": {
          "base_uri": "https://localhost:8080/"
        },
        "id": "n8KpnpchbWEM",
        "outputId": "49d5bdb0-a056-4ab4-b550-dbde05ddfa07"
      },
      "execution_count": 7,
      "outputs": [
        {
          "output_type": "stream",
          "name": "stdout",
          "text": [
            "Enter a word:if\n",
            "The entered word is a keyword\n"
          ]
        }
      ]
    },
    {
      "cell_type": "code",
      "source": [
        "#5.  Create a list and tuple in Python, and demonstrate how attempting to change an element works differently for each.\n",
        "my_list = [10, 20, 30]\n",
        "print(\"Original List:\", my_list)\n",
        "my_list[1] = 200\n",
        "print(\"Modified List:\", my_list)\n",
        "\n",
        "my_tuple = (10, 20, 30)\n",
        "print(\"\\nOriginal Tuple:\", my_tuple)\n",
        "my_tuple[1] = 200\n",
        "print(\"Modified Tuple:\", my_tuple)"
      ],
      "metadata": {
        "colab": {
          "base_uri": "https://localhost:8080/",
          "height": 263
        },
        "id": "3c8fSJ-XcHES",
        "outputId": "82343739-66da-4fee-870e-e5e618dddc58"
      },
      "execution_count": 8,
      "outputs": [
        {
          "output_type": "stream",
          "name": "stdout",
          "text": [
            "Original List: [10, 20, 30]\n",
            "Modified List: [10, 200, 30]\n",
            "\n",
            "Original Tuple: (10, 20, 30)\n"
          ]
        },
        {
          "output_type": "error",
          "ename": "TypeError",
          "evalue": "'tuple' object does not support item assignment",
          "traceback": [
            "\u001b[0;31m---------------------------------------------------------------------------\u001b[0m",
            "\u001b[0;31mTypeError\u001b[0m                                 Traceback (most recent call last)",
            "\u001b[0;32m/tmp/ipython-input-4206307063.py\u001b[0m in \u001b[0;36m<cell line: 0>\u001b[0;34m()\u001b[0m\n\u001b[1;32m      7\u001b[0m \u001b[0mmy_tuple\u001b[0m \u001b[0;34m=\u001b[0m \u001b[0;34m(\u001b[0m\u001b[0;36m10\u001b[0m\u001b[0;34m,\u001b[0m \u001b[0;36m20\u001b[0m\u001b[0;34m,\u001b[0m \u001b[0;36m30\u001b[0m\u001b[0;34m)\u001b[0m\u001b[0;34m\u001b[0m\u001b[0;34m\u001b[0m\u001b[0m\n\u001b[1;32m      8\u001b[0m \u001b[0mprint\u001b[0m\u001b[0;34m(\u001b[0m\u001b[0;34m\"\\nOriginal Tuple:\"\u001b[0m\u001b[0;34m,\u001b[0m \u001b[0mmy_tuple\u001b[0m\u001b[0;34m)\u001b[0m\u001b[0;34m\u001b[0m\u001b[0;34m\u001b[0m\u001b[0m\n\u001b[0;32m----> 9\u001b[0;31m \u001b[0mmy_tuple\u001b[0m\u001b[0;34m[\u001b[0m\u001b[0;36m1\u001b[0m\u001b[0;34m]\u001b[0m \u001b[0;34m=\u001b[0m \u001b[0;36m200\u001b[0m\u001b[0;34m\u001b[0m\u001b[0;34m\u001b[0m\u001b[0m\n\u001b[0m\u001b[1;32m     10\u001b[0m \u001b[0mprint\u001b[0m\u001b[0;34m(\u001b[0m\u001b[0;34m\"Modified Tuple:\"\u001b[0m\u001b[0;34m,\u001b[0m \u001b[0mmy_tuple\u001b[0m\u001b[0;34m)\u001b[0m\u001b[0;34m\u001b[0m\u001b[0;34m\u001b[0m\u001b[0m\n",
            "\u001b[0;31mTypeError\u001b[0m: 'tuple' object does not support item assignment"
          ]
        }
      ]
    },
    {
      "cell_type": "code",
      "source": [
        "#6. Write a function to demonstrate the behavior of mutable and immutable arguments\n",
        "\n",
        "def modify_values(num, my_list):\n",
        "    num += 10\n",
        "    my_list.append(100)\n",
        "    print(\"Inside function - num:\", num)\n",
        "    print(\"Inside function - my_list:\", my_list)\n",
        "\n",
        "# Immutable example\n",
        "x = 5\n",
        "# Mutable example\n",
        "lst = [1, 2, 3]\n",
        "\n",
        "print(\"Before function call - x:\", x)\n",
        "print(\"Before function call - lst:\", lst)\n",
        "\n",
        "modify_values(x, lst)\n",
        "\n",
        "print(\"\\nAfter function call - x:\", x)      # x remains unchanged\n",
        "print(\"After function call - lst:\", lst)   # lst is modified\n"
      ],
      "metadata": {
        "colab": {
          "base_uri": "https://localhost:8080/"
        },
        "id": "3ZBOt3hCCyvb",
        "outputId": "083b8f77-2659-4a45-9244-35d78c7caa64"
      },
      "execution_count": 1,
      "outputs": [
        {
          "output_type": "stream",
          "name": "stdout",
          "text": [
            "Before function call - x: 5\n",
            "Before function call - lst: [1, 2, 3]\n",
            "Inside function - num: 15\n",
            "Inside function - my_list: [1, 2, 3, 100]\n",
            "\n",
            "After function call - x: 5\n",
            "After function call - lst: [1, 2, 3, 100]\n"
          ]
        }
      ]
    },
    {
      "cell_type": "code",
      "source": [
        "#7. Write a program that performs basic arithmetic operations on two user-input numbers.\n",
        "a = float(input(\"Enter first number: \"))\n",
        "b = float(input(\"Enter second number: \"))\n",
        "\n",
        "print(\"Addition:\", a + b)\n",
        "print(\"Subtraction:\", a - b)\n",
        "print(\"Multiplication:\", a * b)\n",
        "\n",
        "if b != 0:\n",
        "    print(\"Division:\", a / b)\n",
        "else:\n",
        "    print(\"Division: Cannot divide by zero\")"
      ],
      "metadata": {
        "colab": {
          "base_uri": "https://localhost:8080/"
        },
        "id": "iQ7F34ngDMWi",
        "outputId": "6a9fe5b4-cdbc-4f2d-92d8-9bc999fc5093"
      },
      "execution_count": 3,
      "outputs": [
        {
          "output_type": "stream",
          "name": "stdout",
          "text": [
            "Enter first number: 20\n",
            "Enter second number: 10\n",
            "Addition: 30.0\n",
            "Subtraction: 10.0\n",
            "Multiplication: 200.0\n",
            "Division: 2.0\n"
          ]
        }
      ]
    },
    {
      "cell_type": "code",
      "source": [
        "#8. Write a program to demonstrate the use of logical operators.\n",
        "a = True\n",
        "b = False\n",
        "print(\"a =\", a, \", b =\", b)\n",
        "# AND operator\n",
        "print(\"\\na and b:\", a and b)   # True only if both are True\n",
        "# OR operator\n",
        "print(\"a or b:\", a or b)       # True if at least one is True\n",
        "# NOT operator\n",
        "print(\"not a:\", not a)         # Reverses the boolean value\n",
        "print(\"not b:\", not b)"
      ],
      "metadata": {
        "colab": {
          "base_uri": "https://localhost:8080/"
        },
        "id": "T4r1_HrCD6UN",
        "outputId": "846e7f86-980d-410e-c70a-ff8872dfd777"
      },
      "execution_count": 4,
      "outputs": [
        {
          "output_type": "stream",
          "name": "stdout",
          "text": [
            "a = True , b = False\n",
            "\n",
            "a and b: False\n",
            "a or b: True\n",
            "not a: False\n",
            "not b: True\n"
          ]
        }
      ]
    },
    {
      "cell_type": "code",
      "source": [
        "#9. Write a Python program to convert user input from string to integer, float, and boolean types.\n",
        "user_input = input(\"Enter something: \")\n",
        "print(\"Original input (string):\", user_input)\n",
        "\n",
        "# Convert to integer\n",
        "try:\n",
        "    int_value = int(user_input)\n",
        "    print(\"As Integer:\", int_value)\n",
        "except ValueError:\n",
        "    print(\"Cannot convert to Integer\")\n",
        "\n",
        "# Convert to float\n",
        "try:\n",
        "    float_value = float(user_input)\n",
        "    print(\"As Float:\", float_value)\n",
        "except ValueError:\n",
        "    print(\"Cannot convert to Float\")\n",
        "\n",
        "# Convert to boolean\n",
        "bool_value = bool(user_input)\n",
        "print(\"As Boolean:\", bool_value)\n"
      ],
      "metadata": {
        "colab": {
          "base_uri": "https://localhost:8080/"
        },
        "id": "G4qbRev8EO3K",
        "outputId": "9eb96e23-4462-4830-e800-2c4e21ce311a"
      },
      "execution_count": 2,
      "outputs": [
        {
          "output_type": "stream",
          "name": "stdout",
          "text": [
            "Enter something: 5\n",
            "Original input (string): 5\n",
            "As Integer: 5\n",
            "As Float: 5.0\n",
            "As Boolean: True\n"
          ]
        }
      ]
    },
    {
      "cell_type": "code",
      "source": [
        "#10. Write code to demonstrate type casting with list elements.\n",
        "\n",
        "str_list = [\"10\", \"20\", \"30\", \"40\", \"50\"]\n",
        "print(\"Original List (strings):\", str_list)\n",
        "\n",
        "# String to integer\n",
        "int_list=[]\n",
        "for s in str_list:\n",
        "  int_list.append(int(s))\n",
        "print(\"After converting to integers:\", int_list)"
      ],
      "metadata": {
        "colab": {
          "base_uri": "https://localhost:8080/"
        },
        "id": "YEPdCC8EBmca",
        "outputId": "703a9207-9dfe-4501-99b9-e723e18f8657"
      },
      "execution_count": 5,
      "outputs": [
        {
          "output_type": "stream",
          "name": "stdout",
          "text": [
            "Original List (strings): ['10', '20', '30', '40', '50']\n",
            "After converting to integers: [10, 20, 30, 40, 50]\n"
          ]
        }
      ]
    },
    {
      "cell_type": "code",
      "source": [
        "#11. Write a program that checks if a number is positive, negative, or zero.\n",
        "num=int(input(\"Enter a number: \"))\n",
        "if(num>0):\n",
        "  print(\"Number greater than 0\")\n",
        "elif(num<0):\n",
        "  print(\"Number lesser than 0\")\n",
        "else:\n",
        "  print(\"Number is 0\")"
      ],
      "metadata": {
        "colab": {
          "base_uri": "https://localhost:8080/"
        },
        "id": "VxKadqYnCVMJ",
        "outputId": "8ce1bc28-991c-48fd-fe5f-7e149d76bbb0"
      },
      "execution_count": 7,
      "outputs": [
        {
          "output_type": "stream",
          "name": "stdout",
          "text": [
            "Enter a number: 25\n",
            "Number greater than 0\n"
          ]
        }
      ]
    },
    {
      "cell_type": "code",
      "source": [
        "#12. Write a for loop to print numbers from 1 to 10.\n",
        "for i in range(1,11):\n",
        "  print(i,end=\" \")"
      ],
      "metadata": {
        "colab": {
          "base_uri": "https://localhost:8080/"
        },
        "id": "DKdlBMIBC37l",
        "outputId": "b50af9c5-4628-4e65-d61c-9a4702e41e4e"
      },
      "execution_count": 10,
      "outputs": [
        {
          "output_type": "stream",
          "name": "stdout",
          "text": [
            "1 2 3 4 5 6 7 8 9 10 "
          ]
        }
      ]
    },
    {
      "cell_type": "code",
      "source": [
        "#13. Write a Python program to find the sum of all even numbers between 1 and 50.\n",
        "sum=0\n",
        "for i in range(1,51):\n",
        "  if(i%2==0):\n",
        "    sum+=i\n",
        "print(\"Sum :\",sum)"
      ],
      "metadata": {
        "colab": {
          "base_uri": "https://localhost:8080/"
        },
        "id": "_sx4jH6pDJKA",
        "outputId": "0dde4007-5fe4-42f8-deee-5b18d30e15a1"
      },
      "execution_count": 12,
      "outputs": [
        {
          "output_type": "stream",
          "name": "stdout",
          "text": [
            "Sum : 650\n"
          ]
        }
      ]
    },
    {
      "cell_type": "code",
      "source": [
        "#14. Write a program to reverse a string using a while loop.\n",
        "word=input(\"Enter a string: \")\n",
        "length=len(word)-1\n",
        "rev_word=\"\"\n",
        "while(length>=0):\n",
        "  rev_word+=word[length]\n",
        "  length-=1\n",
        "print(\"Reversed word: \",rev_word)"
      ],
      "metadata": {
        "colab": {
          "base_uri": "https://localhost:8080/"
        },
        "id": "Y47ia4EFD9fC",
        "outputId": "a7e5c29c-a5ba-4f83-dacc-54a78a473ae4"
      },
      "execution_count": 18,
      "outputs": [
        {
          "output_type": "stream",
          "name": "stdout",
          "text": [
            "Enter a string: study\n",
            "Reversed word:  yduts\n"
          ]
        }
      ]
    },
    {
      "cell_type": "code",
      "source": [
        "#15. Write a Python program to calculate the factorial of a number provided by the user using a while loop\n",
        "num=int(input(\"Enter a number: \"))\n",
        "fact=1\n",
        "while(num>0):\n",
        "  fact*=num\n",
        "  num-=1\n",
        "print(\"Factorial: \",fact)"
      ],
      "metadata": {
        "colab": {
          "base_uri": "https://localhost:8080/"
        },
        "id": "uLiw3T0PEN98",
        "outputId": "aaa604a9-6fd5-46e0-ef99-8a48e7175e14"
      },
      "execution_count": 21,
      "outputs": [
        {
          "output_type": "stream",
          "name": "stdout",
          "text": [
            "Enter a number: 5\n",
            "Factorial:  120\n"
          ]
        }
      ]
    }
  ]
}